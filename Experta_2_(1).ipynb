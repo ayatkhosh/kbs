{
 "cells": [
  {
   "cell_type": "markdown",
   "id": "fd4a424f",
   "metadata": {
    "id": "fd4a424f"
   },
   "source": [
    "Conditional Elements: Composing Patterns Together"
   ]
  },
  {
   "cell_type": "markdown",
   "id": "394fcb4b",
   "metadata": {
    "id": "394fcb4b"
   },
   "source": [
    "AND creates a composed pattern containing all Facts passed as arguments. All of the passed patterns must match for the composed pattern to match.\n"
   ]
  },
  {
   "cell_type": "code",
   "execution_count": null,
   "id": "a0a67146",
   "metadata": {
    "id": "a0a67146"
   },
   "outputs": [],
   "source": [
    "from experta import *\n",
    "#Match if two facts are declared, one matching Fact(1) and other matching Fact(2)\n",
    "@Rule(AND(Fact(1),\n",
    "          Fact(2)))\n",
    "def _():\n",
    "    pass"
   ]
  },
  {
   "cell_type": "markdown",
   "id": "2a993949",
   "metadata": {
    "id": "2a993949"
   },
   "source": [
    "OR creates a composed pattern in which any of the given pattern will make the rule match.\n",
    "\n"
   ]
  },
  {
   "cell_type": "code",
   "execution_count": null,
   "id": "fb90850c",
   "metadata": {
    "id": "fb90850c"
   },
   "outputs": [],
   "source": [
    "#Match if a fact matching Fact(1) exists and/or a fact matching Fact(2) exists\n",
    "@Rule(OR(Fact(1),\n",
    "         Fact(2)))\n",
    "def _():\n",
    "    pass\n",
    "\n",
    "#If multiple facts match, the rule will be fired multiple times, one for each valid combination of matching facts."
   ]
  },
  {
   "cell_type": "markdown",
   "id": "3d580b91",
   "metadata": {
    "id": "3d580b91"
   },
   "source": [
    "NOT\n",
    "This element matches if the given pattern does not match with any fact or combination of facts. Therefore this element matches the absence of the given pattern.\n",
    "\n"
   ]
  },
  {
   "cell_type": "code",
   "execution_count": null,
   "id": "d77638d0",
   "metadata": {
    "id": "d77638d0"
   },
   "outputs": [],
   "source": [
    "@Rule(NOT(Fact(1)))\n",
    "def _():\n",
    "    pass\n",
    "\n",
    "#Match if no fact match with Fact(1)"
   ]
  },
  {
   "cell_type": "markdown",
   "id": "86663bd3",
   "metadata": {
    "id": "86663bd3"
   },
   "source": [
    "TEST\n",
    "Check the received callable against the current binded values. If the execution returns True the evaluation will continue and stops otherwise."
   ]
  },
  {
   "cell_type": "code",
   "execution_count": null,
   "id": "63dc340f",
   "metadata": {
    "id": "63dc340f"
   },
   "outputs": [],
   "source": [
    "class Number(Fact):\n",
    "    pass\n",
    "\n",
    "@Rule(Number(MATCH.a),                   # Bind a variable 'a' to the value of a Number fact\n",
    "        Number(MATCH.b),                   # Bind 'b' to another Number fact\n",
    "        TEST(lambda a, b: a > b),          # Only continue if a > b\n",
    "        Number(MATCH.c),                   # Bind 'c' to another Number fact\n",
    "        TEST(lambda b, c: b > c)   )       # Only continue if b > c\n",
    "\n",
    "def _(a, b, c):\n",
    "    pass\n",
    "#Match for all numbers a, b, c where a > b > c"
   ]
  },
  {
   "cell_type": "markdown",
   "id": "953b16c7",
   "metadata": {
    "id": "953b16c7"
   },
   "source": [
    "EXISTS\n",
    "\n",
    "This Conditional Elements receives a pattern and matches if one or more facts matches this pattern. This will match only once while one or more matching facts exists and will stop matching when there is no matching facts."
   ]
  },
  {
   "cell_type": "code",
   "execution_count": null,
   "id": "3d1f4ecc",
   "metadata": {
    "id": "3d1f4ecc"
   },
   "outputs": [],
   "source": [
    "class Color(Fact):\n",
    "    pass\n",
    "@Rule(EXISTS(Color()))\n",
    "def _():\n",
    "    pass"
   ]
  },
  {
   "cell_type": "markdown",
   "id": "58fadb60",
   "metadata": {
    "id": "58fadb60"
   },
   "source": [
    "The FORALL conditional element provides a mechanism for determining if a group of specified CEs is satisfied for every occurence of another specified CE.\n",
    "\n"
   ]
  },
  {
   "cell_type": "code",
   "execution_count": null,
   "id": "7dd65372",
   "metadata": {
    "id": "7dd65372"
   },
   "outputs": [],
   "source": [
    "#Match when for every Student fact there is a Reading, Writing and Arithmetic fact with the same name.\n",
    "class Student(Fact):\n",
    "    pass\n",
    "class Reading(Fact):\n",
    "    pass\n",
    "class Writing(Fact):\n",
    "    pass\n",
    "class Arithmetic(Fact):\n",
    "    pass\n",
    "@Rule(FORALL(Student(MATCH.name),\n",
    "             Reading(MATCH.name),\n",
    "             Writing(MATCH.name),\n",
    "             Arithmetic(MATCH.name)))\n",
    "def all_students_passed():\n",
    "    pass"
   ]
  },
  {
   "cell_type": "code",
   "execution_count": null,
   "id": "e3807633",
   "metadata": {
    "id": "e3807633"
   },
   "outputs": [],
   "source": [
    "class Student(Fact):\n",
    "    pass\n",
    "\n",
    "class Laptop(Fact):\n",
    "    pass\n",
    "\n",
    "@Rule(FORALL(Student(MATCH.name),\n",
    "             Laptop(MATCH.name)))\n",
    "def all_students_passed():\n",
    "    pass\n",
    "\n",
    "#every student has a laptop"
   ]
  },
  {
   "cell_type": "code",
   "execution_count": null,
   "id": "AwmUA3QR_FrL",
   "metadata": {
    "id": "AwmUA3QR_FrL"
   },
   "outputs": [],
   "source": [
    "class Laptop(Fact):\n",
    "    \"\"\"Laptop ownership fact with student name.\"\"\"\n",
    "    pass\n",
    "\n",
    "class DeviceEngine(KnowledgeEngine):\n",
    "\n",
    "    @Rule(\n",
    "        FORALL(\n",
    "            Student(MATCH.name),       # For every Student\n",
    "            Laptop(MATCH.name)         # There must be a matching Laptop fact\n",
    "        )\n",
    "    )\n",
    "    def all_have_laptops(self):\n",
    "        print(\"✅ All students have laptops.\")\n"
   ]
  },
  {
   "cell_type": "markdown",
   "id": "8b67b592",
   "metadata": {
    "id": "8b67b592"
   },
   "source": [
    "Field Constraints: FC for sort"
   ]
  },
  {
   "cell_type": "markdown",
   "id": "fa887da6",
   "metadata": {
    "id": "fa887da6"
   },
   "source": [
    "L (Literal Field Constraint)\n",
    "This element performs an exact match with the given value. The matching is done using the equality operator ==."
   ]
  },
  {
   "cell_type": "code",
   "execution_count": null,
   "id": "5e357f18",
   "metadata": {
    "id": "5e357f18"
   },
   "outputs": [],
   "source": [
    "@Rule(Fact(L(3)))\n",
    "def _():\n",
    "    pass\n",
    "#Match if the first element is exactly 3\n",
    "#This is the default FC used when no FC is given as a pattern value. pattern."
   ]
  },
  {
   "cell_type": "markdown",
   "id": "0e2601cb",
   "metadata": {
    "id": "0e2601cb"
   },
   "source": [
    "W (Wildcard Field Constraint)\n",
    "\n",
    "This element matches with any value."
   ]
  },
  {
   "cell_type": "code",
   "execution_count": null,
   "id": "c5c5210b",
   "metadata": {
    "id": "c5c5210b"
   },
   "outputs": [],
   "source": [
    "# Match if some fact is declared with the key mykey.\n",
    "@Rule(Fact(mykey=W()))\n",
    "def _():\n",
    "    pass\n",
    "# This element only matches if the element exist."
   ]
  },
  {
   "cell_type": "markdown",
   "id": "70ca4f9f",
   "metadata": {
    "id": "70ca4f9f"
   },
   "source": [
    "P (Predicate Field Constraint)\n",
    "\n",
    "The match of this element is the result of applying the given callable to the fact-extracted value. If the callable returns True the FC will match, in other case the FC will not match."
   ]
  },
  {
   "cell_type": "code",
   "execution_count": null,
   "id": "c7d3459e",
   "metadata": {
    "id": "c7d3459e"
   },
   "outputs": [],
   "source": [
    "#Match if some fact is declared whose first parameter is an instance of int\n",
    "@Rule(Fact(P(lambda x: isinstance(x, int))))\n",
    "def _():\n",
    "    pass"
   ]
  },
  {
   "cell_type": "markdown",
   "id": "b4bed32e",
   "metadata": {
    "id": "b4bed32e"
   },
   "source": [
    "Composing FCs: &, | and ~\n",
    "    All FC can be composed together using the composition operators &, | and ~."
   ]
  },
  {
   "cell_type": "markdown",
   "id": "8b99fe43",
   "metadata": {
    "id": "8b99fe43"
   },
   "source": [
    "ANDFC() a.k.a. &\n",
    "The composed FC matches if all the given FC match."
   ]
  },
  {
   "cell_type": "code",
   "execution_count": null,
   "id": "de8010e8",
   "metadata": {
    "id": "de8010e8"
   },
   "outputs": [],
   "source": [
    "@Rule(Fact(x=P(lambda x: x >= 0) & P(lambda x: x <= 255)))\n",
    "def _():\n",
    "    pass\n",
    "# Match if key x of Point is a value between 0 and 255."
   ]
  },
  {
   "cell_type": "markdown",
   "id": "57a79420",
   "metadata": {
    "id": "57a79420"
   },
   "source": [
    "ORFC() a.k.a. |\n",
    "The composed FC matches if any of the given FC matches."
   ]
  },
  {
   "cell_type": "code",
   "execution_count": null,
   "id": "e6df4224",
   "metadata": {
    "id": "e6df4224"
   },
   "outputs": [],
   "source": [
    "@Rule(Fact(name=L('Alice') | L('Bob')))\n",
    "def _():\n",
    "    pass"
   ]
  },
  {
   "cell_type": "markdown",
   "id": "32d35a6f",
   "metadata": {
    "id": "32d35a6f"
   },
   "source": [
    "NOTFC() a.k.a. ~\n",
    "This composed FC negates the given FC, reversing the logic. If the given FC matches this will not and vice versa.\n",
    "\n"
   ]
  },
  {
   "cell_type": "code",
   "execution_count": null,
   "id": "303ad61d",
   "metadata": {
    "id": "303ad61d"
   },
   "outputs": [],
   "source": [
    "@Rule(Fact(name=~L('Charlie')))\n",
    "def _():\n",
    "    pass\n",
    "# Match if name is not Charlie."
   ]
  },
  {
   "cell_type": "markdown",
   "id": "9c2ce9f6",
   "metadata": {
    "id": "9c2ce9f6"
   },
   "source": [
    "MATCH object\n",
    "\n",
    "The MATCH objects helps generating more readable name bindings. Is syntactic sugar for a Wildcard Field Constraint binded to a name. For example:"
   ]
  },
  {
   "cell_type": "code",
   "execution_count": null,
   "id": "d8235a93",
   "metadata": {
    "id": "d8235a93"
   },
   "outputs": [],
   "source": [
    "@Rule(Fact(MATCH.myvalue))\n",
    "def _(myvalue):\n",
    "    pass"
   ]
  },
  {
   "cell_type": "markdown",
   "id": "d7166a13",
   "metadata": {
    "id": "d7166a13"
   },
   "source": [
    "Is exactly the same as:"
   ]
  },
  {
   "cell_type": "code",
   "execution_count": null,
   "id": "708d1cf6",
   "metadata": {
    "id": "708d1cf6"
   },
   "outputs": [],
   "source": [
    "@Rule(Fact(\"myvalue\" << W()))\n",
    "def _(myvalue):\n",
    "    pass"
   ]
  },
  {
   "cell_type": "markdown",
   "id": "a0a7bcda",
   "metadata": {
    "id": "a0a7bcda"
   },
   "source": [
    "AS object\n",
    "\n",
    "The AS object like the MATCH object is syntactic sugar for generating bindable names. In this case any attribute requested to the AS object will return a string with the same name."
   ]
  },
  {
   "cell_type": "code",
   "execution_count": null,
   "id": "11d2b5f0",
   "metadata": {
    "id": "11d2b5f0"
   },
   "outputs": [],
   "source": [
    "@Rule(AS.myfact << Fact(W()))\n",
    "def _(myfact):\n",
    "    pass"
   ]
  },
  {
   "cell_type": "markdown",
   "id": "354fa296",
   "metadata": {
    "id": "354fa296"
   },
   "source": [
    "Nested matching\n",
    "Nested matching is useful to match against Fact values which contains nested structures like dicts or lists."
   ]
  },
  {
   "cell_type": "code",
   "execution_count": null,
   "id": "0f2c67f4",
   "metadata": {
    "id": "0f2c67f4",
    "outputId": "16b0be2c-9227-47eb-c455-e75c8ba4c394"
   },
   "outputs": [
    {
     "data": {
      "text/plain": [
       "Fact(name='rock', against=<frozendict {'scissors': 1, 'rock': 0, 'paper': -1}>)"
      ]
     },
     "execution_count": 26,
     "metadata": {},
     "output_type": "execute_result"
    }
   ],
   "source": [
    "Fact(name=\"scissors\", against={\"scissors\": 0, \"rock\": -1, \"paper\": 1})\n",
    "Fact(name=\"paper\", against={\"scissors\": -1, \"rock\": 1, \"paper\": 0})\n",
    "Fact(name=\"rock\", against={\"scissors\": 1, \"rock\": 0, \"paper\": -1})"
   ]
  },
  {
   "cell_type": "markdown",
   "id": "d5ed3980",
   "metadata": {
    "id": "d5ed3980"
   },
   "source": [
    "Nested matching take the form field__subkey=value. (That’s a double-underscore). For example:"
   ]
  },
  {
   "cell_type": "code",
   "execution_count": null,
   "id": "5f241ca7",
   "metadata": {
    "id": "5f241ca7"
   },
   "outputs": [],
   "source": [
    "@Rule(Fact(name=MATCH.name, against__scissors=1, against__paper=-1))\n",
    "def what_wins_to_scissors_and_losses_to_paper(self, name):\n",
    "        print(name)"
   ]
  },
  {
   "cell_type": "markdown",
   "id": "277697f3",
   "metadata": {
    "id": "277697f3"
   },
   "source": [
    "Is possible to match against an arbitrary deep structure following the same method."
   ]
  },
  {
   "cell_type": "code",
   "execution_count": null,
   "id": "a1d8163b",
   "metadata": {
    "id": "a1d8163b"
   },
   "outputs": [],
   "source": [
    "class Ship(Fact):\n",
    "    pass"
   ]
  },
  {
   "cell_type": "code",
   "execution_count": null,
   "id": "b77b5804",
   "metadata": {
    "id": "b77b5804",
    "outputId": "06209f37-fc00-4d8b-e20f-b058f64bc751"
   },
   "outputs": [
    {
     "data": {
      "text/plain": [
       "Ship(data=<frozendict {'name': 'SmallShip', 'position': <frozendict {'x': 300, 'y': 200}>, 'parent': <frozendict {'name': 'BigShip', 'position': <frozendict {'x': 150, 'y': 300}>}>}>)"
      ]
     },
     "execution_count": 29,
     "metadata": {},
     "output_type": "execute_result"
    }
   ],
   "source": [
    "Ship(data={\n",
    "    \"name\": \"SmallShip\",\n",
    "    \"position\": {\n",
    "        \"x\": 300,\n",
    "        \"y\": 200},\n",
    "    \"parent\": {\n",
    "        \"name\": \"BigShip\",\n",
    "        \"position\": {\n",
    "            \"x\": 150,\n",
    "            \"y\": 300}}})"
   ]
  },
  {
   "cell_type": "code",
   "execution_count": null,
   "id": "301b9a65",
   "metadata": {
    "id": "301b9a65"
   },
   "outputs": [],
   "source": [
    "#In this example we can check for collision between a ship and its parent with the following rule:\n",
    "@Rule(Ship(data__name=MATCH.name1,\n",
    "            data__position__x=MATCH.x,\n",
    "            data__position__y=MATCH.y,\n",
    "            data__parent__name=MATCH.name2,\n",
    "            data__parent__position__x=MATCH.x,\n",
    "            data__parent__position__y=MATCH.y))\n",
    "def collision_detected(self, name1, name2, **_):\n",
    "    print(\"COLLISION!\", name1, name2)"
   ]
  },
  {
   "cell_type": "markdown",
   "id": "47cd6077",
   "metadata": {
    "id": "47cd6077"
   },
   "source": [
    "If the nested data structure contains list, tuples or any other sequence you can use numeric indexes as needed."
   ]
  },
  {
   "cell_type": "code",
   "execution_count": null,
   "id": "d862cd5e",
   "metadata": {
    "id": "d862cd5e"
   },
   "outputs": [],
   "source": [
    "Ship(data={\n",
    "    \"name\": \"SmallShip\",\n",
    "    \"position\": {\n",
    "        \"x\": 300,\n",
    "        \"y\": 200},\n",
    "    \"enemies\": [\n",
    "             {\"name\": \"Destroyer\"},\n",
    "             {\"name\": \"BigShip\"}\n",
    "    ]\n",
    "})\n",
    "\n",
    "@Rule(Ship(data__enemies__0__name=\"Destroyer\"))\n",
    "def next_enemy_is_destroyer(self):\n",
    "        print(\"Bye byee!\")"
   ]
  },
  {
   "cell_type": "markdown",
   "id": "33a2f02f",
   "metadata": {
    "id": "33a2f02f"
   },
   "source": [
    "Mutable objects\n",
    "\n",
    "Experta’s matching algorithm depends on the values of the declared facts being immutable"
   ]
  },
  {
   "cell_type": "markdown",
   "id": "e7c15cf9",
   "metadata": {
    "id": "e7c15cf9"
   },
   "source": [
    "When a Fact is created, all its values are transformed to an immutable type if they are not. For this matter the method experta.utils.freeze is used internally.\n",
    "\n"
   ]
  },
  {
   "cell_type": "code",
   "execution_count": null,
   "id": "55cf3681",
   "metadata": {
    "id": "55cf3681",
    "outputId": "911c0687-c8d4-4177-9066-d58637877f3b"
   },
   "outputs": [
    {
     "name": "stdout",
     "output_type": "stream",
     "text": [
      "<class 'frozendict.frozendict'> is Immutable!\n",
      "<class 'list'> is mutable!\n",
      "<class 'frozenset'> is Immutable!\n"
     ]
    }
   ],
   "source": [
    "from experta.utils import unfreeze\n",
    "class MutableTest(KnowledgeEngine):\n",
    "    @Rule(Fact(v1=MATCH.v1, v2=MATCH.v2, v3=MATCH.v3))\n",
    "    def is_immutable(self, v1, v2, v3):\n",
    "        v2=unfreeze(v2)\n",
    "        v2.append(5)\n",
    "        print(type(v1), \"is Immutable!\")\n",
    "        print(type(v2), \"is mutable!\")\n",
    "        print(type(v3), \"is Immutable!\")\n",
    "\n",
    "ke = MutableTest()\n",
    "ke.reset()\n",
    "ke.declare(Fact(v1={\"a\": 1, \"b\": 2}, v2=[1, 2, 3], v3={1, 2, 3}))\n",
    "ke.run()"
   ]
  },
  {
   "cell_type": "markdown",
   "id": "e6a63f8f",
   "metadata": {
    "id": "e6a63f8f"
   },
   "source": [
    "Example:\n",
    "    \n",
    "    we will learn how to modify Facts\n",
    "    we will learn how to retract fact in second method # we can pass 2 options as asrgument to retract\n",
    "                  1-id of fact\n",
    "                  2-fact itself\n",
    "    we will learn how use AS object to bind Fact for use in conclusions"
   ]
  },
  {
   "cell_type": "code",
   "execution_count": null,
   "id": "ef71e3d2",
   "metadata": {
    "id": "ef71e3d2"
   },
   "outputs": [],
   "source": [
    "class Maximum(KnowledgeEngine):\n",
    "    @Rule(NOT(Fact(max=W())))\n",
    "    def init(self):\n",
    "        self.declare(Fact(max=0))\n",
    "\n",
    "    @Rule(Fact(val=MATCH.val),\n",
    "          AS.m << Fact(max=MATCH.max),\n",
    "          TEST(lambda max, val: val > max))\n",
    "    def compute_max(self, m, val):\n",
    "        self.modify(m, max=val)\n",
    "\n",
    "    @Rule(AS.v << Fact(val=MATCH.val),\n",
    "          Fact(max=MATCH.max),\n",
    "          TEST(lambda max, val: val <= max))\n",
    "    def remove_val(self, v):\n",
    "        self.retract(v)\n",
    "\n",
    "    @Rule(AS.v << Fact(max=W()),\n",
    "          NOT(Fact(val=W())))\n",
    "    def print_max(self, v):\n",
    "        print(\"Max:\", v['max'])"
   ]
  },
  {
   "cell_type": "code",
   "execution_count": null,
   "id": "c999b7ff",
   "metadata": {
    "id": "c999b7ff",
    "outputId": "56d3b933-e006-4e86-a617-f217d36db1ee"
   },
   "outputs": [
    {
     "name": "stdout",
     "output_type": "stream",
     "text": [
      "Max: 99\n"
     ]
    }
   ],
   "source": [
    "m = Maximum()\n",
    "m.reset()\n",
    "m.declare(*[Fact(val=x) for x in (12, 33, 42, 99, 55, 11, 75)])\n",
    "m.run()"
   ]
  },
  {
   "cell_type": "code",
   "execution_count": null,
   "id": "475b0ae7",
   "metadata": {
    "id": "475b0ae7",
    "outputId": "0a7636d1-2191-4bfe-f166-9f52fa378156"
   },
   "outputs": [
    {
     "data": {
      "text/plain": [
       "FactList([(0, InitialFact()), (10, Fact(max=99))])"
      ]
     },
     "execution_count": 55,
     "metadata": {},
     "output_type": "execute_result"
    }
   ],
   "source": [
    "m.facts"
   ]
  },
  {
   "cell_type": "code",
   "execution_count": null,
   "id": "a3c4be31",
   "metadata": {
    "id": "a3c4be31"
   },
   "outputs": [],
   "source": [
    "class Minimum(KnowledgeEngine):\n",
    "    @Rule(NOT(Fact(min=W())))\n",
    "    def init(self):\n",
    "        self.declare(Fact(min=100))\n",
    "\n",
    "    @Rule(Fact(val=MATCH.val),\n",
    "          AS.m << Fact(min=MATCH.min),\n",
    "          TEST(lambda min, val: val < min))\n",
    "    def compute_min(self, m, val):\n",
    "        self.modify(m, min=val)\n",
    "\n",
    "    @Rule(AS.v << Fact(val=MATCH.val),\n",
    "          Fact(min=MATCH.min),\n",
    "          TEST(lambda min, val: val >= min))\n",
    "    def remove_val(self, v):\n",
    "        self.retract(v)\n",
    "\n",
    "    @Rule(AS.v << Fact(min=W()),\n",
    "          NOT(Fact(val=W())))\n",
    "    def print_min(self, v):\n",
    "        print(\"Min:\", v['min'])"
   ]
  },
  {
   "cell_type": "code",
   "execution_count": null,
   "id": "58a0f0cf",
   "metadata": {
    "id": "58a0f0cf",
    "outputId": "4139e163-0278-4bfc-92e1-24f6f7d0abb3"
   },
   "outputs": [
    {
     "name": "stdout",
     "output_type": "stream",
     "text": [
      "Min: 11\n"
     ]
    }
   ],
   "source": [
    "m = Minimum()\n",
    "m.reset()\n",
    "m.declare(*[Fact(val=x) for x in (12, 33, 42, 99, 55, 11, 75)])\n",
    "m.run()"
   ]
  },
  {
   "cell_type": "code",
   "execution_count": null,
   "id": "54f37a68",
   "metadata": {
    "id": "54f37a68",
    "outputId": "d0188358-cc4a-45cd-9b9a-5cd27bcb48fa"
   },
   "outputs": [
    {
     "data": {
      "text/plain": [
       "FactList([(0, InitialFact()), (10, Fact(min=11))])"
      ]
     },
     "execution_count": 65,
     "metadata": {},
     "output_type": "execute_result"
    }
   ],
   "source": [
    "m.facts"
   ]
  },
  {
   "cell_type": "code",
   "execution_count": null,
   "id": "56c1f3d6",
   "metadata": {
    "id": "56c1f3d6"
   },
   "outputs": [],
   "source": [
    "# Error when len(args) != no of actual arguments\n",
    "# required by the function\n",
    "\n",
    "# args = [0, 1, 4, 9]\n",
    "\n",
    "\n",
    "# def func(a, b, c):\n",
    "# \treturn a + b + c\n",
    "\n",
    "\n",
    "# # calling function with unpacking args\n",
    "# func(*args)\n"
   ]
  },
  {
   "cell_type": "code",
   "execution_count": null,
   "id": "f33c4eb6",
   "metadata": {
    "id": "f33c4eb6"
   },
   "outputs": [],
   "source": [
    "class neighbor(Fact):\n",
    "    pass\n",
    "\n",
    "class holds(Fact):\n",
    "    pass\n",
    "\n",
    "class OrderNumber(KnowledgeEngine):\n",
    "    @DefFacts()\n",
    "    def _initial_action(self):\n",
    "        yield neighbor(left=\"Ann\",right=\"Bert\")\n",
    "        yield neighbor(left=\"Bert\",right=\"Carol\")\n",
    "        yield neighbor(left=\"Carol\",right=\"Dany\")\n",
    "        yield holds(person=\"Ann\",number=17)\n",
    "        yield holds(person=\"Bert\",number=6)\n",
    "        yield holds(person=\"Carol\",number=7)\n",
    "        yield holds(person=\"Dany\",number=27)\n",
    "\n",
    "\n",
    "    @Rule(neighbor(left=MATCH.a,right=MATCH.b),\n",
    "          AS.Ahas << holds(person=MATCH.a,number=MATCH.x),\n",
    "          AS.Bhas <<holds(person=MATCH.b,number=MATCH.y),\n",
    "          TEST(lambda x,y:y>x)\n",
    "    )\n",
    "    def swap(self,Ahas,Bhas,x,y):\n",
    "        self.modify(Ahas, number=y)\n",
    "        self.modify(Bhas, number=x)"
   ]
  },
  {
   "cell_type": "code",
   "execution_count": null,
   "id": "b3134202",
   "metadata": {
    "id": "b3134202",
    "outputId": "675d24e8-6056-4a88-be78-2344c65a663c"
   },
   "outputs": [
    {
     "data": {
      "text/plain": [
       "FactList([(0, InitialFact()),\n",
       "          (1, neighbor(left='Ann', right='Bert')),\n",
       "          (2, neighbor(left='Bert', right='Carol')),\n",
       "          (3, neighbor(left='Carol', right='Dany')),\n",
       "          (12, holds(person='Carol', number=7)),\n",
       "          (13, holds(person='Dany', number=6)),\n",
       "          (14, holds(person='Ann', number=27)),\n",
       "          (15, holds(person='Bert', number=17))])"
      ]
     },
     "execution_count": 45,
     "metadata": {},
     "output_type": "execute_result"
    }
   ],
   "source": [
    "o_n=OrderNumber()\n",
    "o_n.reset()\n",
    "o_n.run()\n",
    "o_n.facts"
   ]
  },
  {
   "cell_type": "markdown",
   "id": "76ecd161",
   "metadata": {
    "id": "76ecd161"
   },
   "source": [
    "# Exercise"
   ]
  },
  {
   "cell_type": "markdown",
   "id": "2c35e474",
   "metadata": {
    "id": "2c35e474"
   },
   "source": [
    "\n",
    "                                                                                    بناء نظام خبير يقوم ب   -\n",
    "\n",
    "                                                                                   تمثيل شجرة العائلة\n",
    "\n",
    "                                        تحقيق العلاقات العائلية (الاب - الام -الاخ -الاسلاف -الجد -الجدة  )\n",
    "\n",
    "                 ايجاد محارم شخص (الام -الجدات -البنات -الاخوات -بنات الاخوات-بنات الاخوة-العمات -الخالات)"
   ]
  },
  {
   "cell_type": "code",
   "execution_count": null,
   "id": "f3a42c24",
   "metadata": {
    "id": "f3a42c24"
   },
   "outputs": [],
   "source": []
  }
 ],
 "metadata": {
  "colab": {
   "provenance": []
  },
  "kernelspec": {
   "display_name": "Python 3 (ipykernel)",
   "language": "python",
   "name": "python3"
  },
  "language_info": {
   "codemirror_mode": {
    "name": "ipython",
    "version": 3
   },
   "file_extension": ".py",
   "mimetype": "text/x-python",
   "name": "python",
   "nbconvert_exporter": "python",
   "pygments_lexer": "ipython3",
   "version": "3.9.21"
  }
 },
 "nbformat": 4,
 "nbformat_minor": 5
}
