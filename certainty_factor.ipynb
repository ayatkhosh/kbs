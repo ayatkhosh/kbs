{
 "cells": [
  {
   "cell_type": "code",
   "execution_count": 1,
   "id": "1b8c8764-884b-4469-9186-dbf35a209e06",
   "metadata": {},
   "outputs": [],
   "source": [
    "# QUESTION:\n",
    "# 1. Define a Fact class called 'observable' with the following fields:\n",
    "#    - 'name' of type str (mandatory)\n",
    "#    - 'value' of type str (mandatory)\n",
    "#    - 'certainty_factor' of type float with a default of 1.0\n",
    "#\n",
    "# 2. Define another Fact class called 'classification' with:\n",
    "#    - 'class_name' of type str (mandatory)\n",
    "#    - 'certainty_factor' of type float with a default of 1.0\n",
    "#\n",
    "# 3. Define a KnowledgeEngine subclass that:\n",
    "#    - uses @DefFacts() to declare an initial fact of type 'observable'\n",
    "#      with:\n",
    "#          - name = 'color'\n",
    "#          - value = 'green'\n",
    "#          - certainty_factor = 0.8\n",
    "#\n",
    "# 4. Add a Rule that:\n",
    "#    - matches an observable with:\n",
    "#        - name equal to 'color' and\n",
    "#        - value equal to 'green'\n",
    "#    - when the rule matches, declare a new classification with:\n",
    "#        - class_name = 'green_object'\n",
    "#        - certainty_factor = 0.9 * certainty_factor of the matched observable\n",
    "#\n",
    "# 5. Print the facts after running the engine.\n",
    "#\n",
    "# 💡 Use the experta library!\n"
   ]
  }
 ],
 "metadata": {
  "kernelspec": {
   "display_name": "Python 3 (ipykernel)",
   "language": "python",
   "name": "python3"
  },
  "language_info": {
   "codemirror_mode": {
    "name": "ipython",
    "version": 3
   },
   "file_extension": ".py",
   "mimetype": "text/x-python",
   "name": "python",
   "nbconvert_exporter": "python",
   "pygments_lexer": "ipython3",
   "version": "3.8.10"
  }
 },
 "nbformat": 4,
 "nbformat_minor": 5
}
